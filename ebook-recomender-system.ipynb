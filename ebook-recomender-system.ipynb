{
 "cells": [
  {
   "cell_type": "markdown",
   "metadata": {
    "colab_type": "text",
    "id": "G7Fz9_3e9etP"
   },
   "source": [
    "# **Amazon review data - Kindle (e-books) store**\n",
    "\n",
    "Data source: http://jmcauley.ucsd.edu/data/amazon/"
   ]
  },
  {
   "cell_type": "markdown",
   "metadata": {
    "colab_type": "text",
    "id": "Ziv7iBHR9rAY"
   },
   "source": [
    "## Imports"
   ]
  },
  {
   "cell_type": "code",
   "execution_count": 1,
   "metadata": {
    "colab": {},
    "colab_type": "code",
    "id": "n6b18Cti876A"
   },
   "outputs": [
    {
     "name": "stderr",
     "output_type": "stream",
     "text": [
      "/home/xavier/.local/lib/python3.6/site-packages/statsmodels/tools/_testing.py:19: FutureWarning: pandas.util.testing is deprecated. Use the functions in the public API at pandas.testing instead.\n",
      "  import pandas.util.testing as tm\n"
     ]
    }
   ],
   "source": [
    "import math\n",
    "import findspark\n",
    "import numpy as np\n",
    "from itertools import chain\n",
    "import seaborn as sns\n",
    "import matplotlib.pyplot as plt\n",
    "\n",
    "from pyspark.sql import SparkSession\n",
    "from pyspark.sql import SQLContext\n",
    "from pyspark.sql.functions import *\n",
    "from pyspark.sql.types import *\n",
    "from pyspark.sql import functions as F\n",
    "from pyspark.ml.recommendation import ALS\n",
    "from pyspark.ml.feature import StringIndexer\n",
    "from pyspark.ml import Pipeline\n",
    "from pyspark.ml.evaluation import RegressionEvaluator\n",
    "from pyspark.ml.tuning import ParamGridBuilder, TrainValidationSplit\n",
    "\n",
    "sns.set(color_codes=True)"
   ]
  },
  {
   "cell_type": "code",
   "execution_count": 2,
   "metadata": {
    "colab": {},
    "colab_type": "code",
    "id": "yMuw_fd59Bxr"
   },
   "outputs": [],
   "source": [
    "from pyspark.sql import SparkSession\n",
    "\n",
    "findspark.init()\n",
    "spark = SparkSession.builder.master(\"local[*]\").getOrCreate()"
   ]
  },
  {
   "cell_type": "markdown",
   "metadata": {
    "colab_type": "text",
    "id": "eiiDGWcP1IVQ"
   },
   "source": [
    "# I- Data exploration"
   ]
  },
  {
   "cell_type": "markdown",
   "metadata": {
    "colab_type": "text",
    "id": "jgMtOdvE9uwY"
   },
   "source": [
    "## 1/ Data loading"
   ]
  },
  {
   "cell_type": "code",
   "execution_count": 3,
   "metadata": {
    "colab": {
     "base_uri": "https://localhost:8080/",
     "height": 34
    },
    "colab_type": "code",
    "id": "fc6PUUApB19_",
    "outputId": "2a92b3c7-0c32-4ac6-cc74-97d2a7e50f09"
   },
   "outputs": [
    {
     "name": "stdout",
     "output_type": "stream",
     "text": [
      "Number of rows: 982619\n",
      "+----------+-------+-------+--------------------+-----------+--------------+--------------------+--------------------+--------------+\n",
      "|      asin|helpful|overall|          reviewText| reviewTime|    reviewerID|        reviewerName|             summary|unixReviewTime|\n",
      "+----------+-------+-------+--------------------+-----------+--------------+--------------------+--------------------+--------------+\n",
      "|B000F83SZQ| [0, 0]|    5.0|I enjoy vintage b...| 05 5, 2014|A1F6404F1VG29J|          Avidreader|  Nice vintage story|    1399248000|\n",
      "|B000F83SZQ| [2, 2]|    4.0|This book is a re...| 01 6, 2014| AN0N05A9LIJEQ|            critters|        Different...|    1388966400|\n",
      "|B000F83SZQ| [2, 2]|    4.0|This was a fairly...| 04 4, 2014| A795DMNCJILA6|                 dot|               Oldie|    1396569600|\n",
      "|B000F83SZQ| [1, 1]|    5.0|I'd never read an...|02 19, 2014|A1FV0SX13TWVXQ|Elaine H. Turley ...|  I really liked it.|    1392768000|\n",
      "|B000F83SZQ| [0, 1]|    4.0|If you like perio...|03 19, 2014|A3SPTOKDG7WBLN|  Father Dowling Fan|      Period Mystery|    1395187200|\n",
      "|B000F83SZQ| [0, 0]|    4.0|A beautiful in-de...|05 26, 2014|A1RK2OCZDSGC6R|    ubavka seirovska|              Review|    1401062400|\n",
      "|B000F83SZQ| [0, 0]|    4.0|I enjoyed this on...|06 10, 2014|A2HSAKHC3IBRE6|            Wolfmist|Nice old fashione...|    1402358400|\n",
      "|B000F83SZQ| [1, 1]|    4.0|Never heard of Am...|03 22, 2014|A3DE6XGZ2EPADS|                 WPY|Enjoyable reading...|    1395446400|\n",
      "|B000FA64PA| [0, 0]|    5.0|Darth Maul workin...|10 11, 2013|A1UG4Q4D3OAH3A|                 dsa|          Darth Maul|    1381449600|\n",
      "|B000FA64PA| [0, 0]|    4.0|This is a short s...|02 13, 2011| AQZH7YTWQPOBE|            Enjolras|Not bad, not exce...|    1297555200|\n",
      "+----------+-------+-------+--------------------+-----------+--------------+--------------------+--------------------+--------------+\n",
      "only showing top 10 rows\n",
      "\n"
     ]
    }
   ],
   "source": [
    "json = spark.read.json(\"./data/reviews_Kindle_Store_5.json.gz\")\n",
    "print(\"Number of rows:\", json.count())\n",
    "json.show(10)"
   ]
  },
  {
   "cell_type": "markdown",
   "metadata": {
    "colab_type": "text",
    "id": "ao_6NcLyvuMK"
   },
   "source": [
    "We keep 3 columns : user id, ebook id and rating."
   ]
  },
  {
   "cell_type": "code",
   "execution_count": 4,
   "metadata": {
    "colab": {
     "base_uri": "https://localhost:8080/",
     "height": 486
    },
    "colab_type": "code",
    "id": "1h6dmVYME3sH",
    "outputId": "84896be9-ff54-4bca-91bd-3a01e1f543e2"
   },
   "outputs": [
    {
     "name": "stdout",
     "output_type": "stream",
     "text": [
      "+--------------+----------+-------+\n",
      "|    reviewerID|      asin|overall|\n",
      "+--------------+----------+-------+\n",
      "|A1F6404F1VG29J|B000F83SZQ|    5.0|\n",
      "| AN0N05A9LIJEQ|B000F83SZQ|    4.0|\n",
      "| A795DMNCJILA6|B000F83SZQ|    4.0|\n",
      "|A1FV0SX13TWVXQ|B000F83SZQ|    5.0|\n",
      "|A3SPTOKDG7WBLN|B000F83SZQ|    4.0|\n",
      "|A1RK2OCZDSGC6R|B000F83SZQ|    4.0|\n",
      "|A2HSAKHC3IBRE6|B000F83SZQ|    4.0|\n",
      "|A3DE6XGZ2EPADS|B000F83SZQ|    4.0|\n",
      "|A1UG4Q4D3OAH3A|B000FA64PA|    5.0|\n",
      "| AQZH7YTWQPOBE|B000FA64PA|    4.0|\n",
      "+--------------+----------+-------+\n",
      "only showing top 10 rows\n",
      "\n"
     ]
    },
    {
     "data": {
      "text/plain": [
       "DataFrame[reviewerID: string, asin: string, overall: double]"
      ]
     },
     "execution_count": 4,
     "metadata": {},
     "output_type": "execute_result"
    }
   ],
   "source": [
    "data = json.select(\"reviewerID\", \"asin\", \"overall\")\n",
    "data.show(10)\n",
    "data.cache()"
   ]
  },
  {
   "cell_type": "markdown",
   "metadata": {
    "colab_type": "text",
    "id": "UJWL-cuvUVDR"
   },
   "source": [
    "## 2/ Data exploration"
   ]
  },
  {
   "cell_type": "code",
   "execution_count": 5,
   "metadata": {
    "colab": {
     "base_uri": "https://localhost:8080/",
     "height": 69
    },
    "colab_type": "code",
    "id": "3HuefKgKv7wB",
    "outputId": "8f6e379e-53e2-4d15-d6b0-4a3a3b273ebd"
   },
   "outputs": [
    {
     "name": "stdout",
     "output_type": "stream",
     "text": [
      "Number of ratings:  982619\n",
      "Number of ebooks: 61934\n",
      "Number of reviewers: 68223\n"
     ]
    }
   ],
   "source": [
    "print(\"Number of ratings: \", data.count())\n",
    "print(\"Number of ebooks:\", data.select(\"asin\").distinct().count())\n",
    "print(\"Number of reviewers:\", data.select(\"reviewerID\").distinct().count())"
   ]
  },
  {
   "cell_type": "markdown",
   "metadata": {
    "colab_type": "text",
    "id": "tN08Iy-vwXnv"
   },
   "source": [
    "Number or ratings per ebook:"
   ]
  },
  {
   "cell_type": "code",
   "execution_count": 6,
   "metadata": {
    "colab": {
     "base_uri": "https://localhost:8080/",
     "height": 546
    },
    "colab_type": "code",
    "id": "gbsPleVJUbtb",
    "outputId": "a44031f7-9e94-404e-eafa-255d5bcc0ec2"
   },
   "outputs": [
    {
     "name": "stdout",
     "output_type": "stream",
     "text": [
      "+----------+-----+\n",
      "|      asin|count|\n",
      "+----------+-----+\n",
      "|B006GWO5WK| 1113|\n",
      "|B00BTIDW4S|  781|\n",
      "|B00BT0J8ZS|  516|\n",
      "|B00JDYC5OI|  502|\n",
      "|B00H0V069M|  481|\n",
      "|B00BTIDXVU|  454|\n",
      "|B00BSX4U04|  452|\n",
      "|B00BTIDOO6|  428|\n",
      "|B007R5YDYA|  422|\n",
      "|B005DOK8NW|  408|\n",
      "+----------+-----+\n",
      "\n"
     ]
    },
    {
     "data": {
      "text/plain": [
       "[(0, 200)]"
      ]
     },
     "execution_count": 6,
     "metadata": {},
     "output_type": "execute_result"
    },
    {
     "data": {
      "image/png": "[encoded data removed]",
      "text/plain": [
       "<Figure size 432x288 with 1 Axes>"
      ]
     },
     "metadata": {},
     "output_type": "display_data"
    }
   ],
   "source": [
    "json.groupBy(\"asin\").count().sort('count', ascending=False).limit(10).show()\n",
    "df = json.groupBy(\"asin\").count().sort('count', ascending=False).toPandas()\n",
    "fig = sns.distplot(df['count'].values);\n",
    "fig.set(xlim=(0, 200))"
   ]
  },
  {
   "cell_type": "markdown",
   "metadata": {
    "colab_type": "text",
    "id": "-FWqqF9Rwetm"
   },
   "source": [
    "Number of ratings per reviewers:"
   ]
  },
  {
   "cell_type": "code",
   "execution_count": 7,
   "metadata": {
    "colab": {
     "base_uri": "https://localhost:8080/",
     "height": 546
    },
    "colab_type": "code",
    "id": "fu3ecMtQUqer",
    "outputId": "00facb9a-0e52-4c9f-bbfe-94049add61c3"
   },
   "outputs": [
    {
     "name": "stdout",
     "output_type": "stream",
     "text": [
      "+--------------+--------------------+-----+\n",
      "|    reviewerID|        reviewerName|count|\n",
      "+--------------+--------------------+-----+\n",
      "|A13QTZ8CIMHHG4|LAS Reviewer \"The...| 1173|\n",
      "|A2WZJDFX12QXKD|       Stuart Powell| 1007|\n",
      "| A320TMDV6KCFU|                MNix|  846|\n",
      "|A3PTWPKPXOG8Y5|              Alexis|  789|\n",
      "|A1JLU5H1CCENWX|        andrewsheath|  781|\n",
      "|A37LY77Q2YPJVL|        Cathy Wilson|  744|\n",
      "|A3A7FF87LEVCQ1|  morehumanthanhuman|  655|\n",
      "|A2JZCZYHNQHSCP|         James Irwin|  625|\n",
      "|A328S9RN3U5M68|          Grady Harp|  587|\n",
      "| A2YJ8VP1SSHJ7|           NFerguson|  578|\n",
      "+--------------+--------------------+-----+\n",
      "\n"
     ]
    },
    {
     "data": {
      "text/plain": [
       "[(0, 200)]"
      ]
     },
     "execution_count": 7,
     "metadata": {},
     "output_type": "execute_result"
    },
    {
     "data": {
      "image/png": "[encoded data removed]",
      "text/plain": [
       "<Figure size 432x288 with 1 Axes>"
      ]
     },
     "metadata": {},
     "output_type": "display_data"
    }
   ],
   "source": [
    "json.groupBy(\"reviewerID\", \"reviewerName\").count().sort('count', ascending=False).limit(10).show()\n",
    "df = json.groupBy(\"reviewerID\").count().sort('count', ascending=False).toPandas()\n",
    "fig = sns.distplot(df['count'].values);\n",
    "fig.set(xlim=(0, 200))"
   ]
  },
  {
   "cell_type": "markdown",
   "metadata": {
    "colab_type": "text",
    "id": "eKNRcnEawi1Q"
   },
   "source": [
    "Distribution of ratings between 0 to 5:"
   ]
  },
  {
   "cell_type": "code",
   "execution_count": 8,
   "metadata": {
    "colab": {
     "base_uri": "https://localhost:8080/",
     "height": 461
    },
    "colab_type": "code",
    "id": "b2q0yTBHVCva",
    "outputId": "a5550d20-7960-4a55-af93-bafa54fd1feb"
   },
   "outputs": [
    {
     "name": "stdout",
     "output_type": "stream",
     "text": [
      "+-------+------+\n",
      "|overall| count|\n",
      "+-------+------+\n",
      "|    5.0|575264|\n",
      "|    4.0|254013|\n",
      "|    3.0| 96194|\n",
      "|    2.0| 34130|\n",
      "|    1.0| 23018|\n",
      "+-------+------+\n",
      "\n"
     ]
    },
    {
     "data": {
      "text/plain": [
       "<matplotlib.axes._subplots.AxesSubplot at 0x7f19c60a8400>"
      ]
     },
     "execution_count": 8,
     "metadata": {},
     "output_type": "execute_result"
    },
    {
     "data": {
      "image/png": "[encoded data removed]",
      "text/plain": [
       "<Figure size 432x288 with 1 Axes>"
      ]
     },
     "metadata": {},
     "output_type": "display_data"
    }
   ],
   "source": [
    "json.groupBy(\"overall\").count().sort('count', ascending=False).limit(10).show()\n",
    "df = json.select(\"overall\").toPandas()\n",
    "df.overall.hist(bins=5)"
   ]
  },
  {
   "cell_type": "markdown",
   "metadata": {
    "colab_type": "text",
    "id": "S8oXdIEo1ZuG"
   },
   "source": [
    "# II- Recommender system based on similarities among users"
   ]
  },
  {
   "cell_type": "markdown",
   "metadata": {
    "colab_type": "text",
    "id": "RNoHE_7Wwy8t"
   },
   "source": [
    "## 1/ Data reduction\n",
    "\n",
    "The number of data makes the calculations slow on Spark locally so we choose to reduce the number. We can later use the initial data by skipping these code portions."
   ]
  },
  {
   "cell_type": "markdown",
   "metadata": {
    "colab_type": "text",
    "id": "kh05B-E2xYgB"
   },
   "source": [
    "We remove the users who gave few ratings:"
   ]
  },
  {
   "cell_type": "code",
   "execution_count": 9,
   "metadata": {
    "colab": {
     "base_uri": "https://localhost:8080/",
     "height": 52
    },
    "colab_type": "code",
    "id": "8Won1E0JxYv4",
    "outputId": "4e66a12a-9b08-40b4-8bc2-6e00eb8706ab"
   },
   "outputs": [
    {
     "name": "stdout",
     "output_type": "stream",
     "text": [
      "Number of reviewers who rated less than  20  ebooks:  57625\n",
      "New number of ratings: 507714\n"
     ]
    }
   ],
   "source": [
    "treshold = 20\n",
    "small_users = data.groupby('reviewerID').count().filter(col(\"count\") < treshold)\n",
    "print(\"Number of reviewers who rated less than \", treshold, \" ebooks: \", small_users.count())\n",
    "data = data.join(small_users, \"reviewerID\", \"left_anti\")\n",
    "print(\"New number of ratings:\", data.count())"
   ]
  },
  {
   "cell_type": "markdown",
   "metadata": {
    "colab_type": "text",
    "id": "EWL_TX-bw8kU"
   },
   "source": [
    "We remove the ebooks with the fewest ratings:"
   ]
  },
  {
   "cell_type": "code",
   "execution_count": 10,
   "metadata": {
    "colab": {
     "base_uri": "https://localhost:8080/",
     "height": 52
    },
    "colab_type": "code",
    "id": "rOlecz-ow4JP",
    "outputId": "b6b5e3c3-15a7-4458-c83a-16fbd4a87186"
   },
   "outputs": [
    {
     "name": "stdout",
     "output_type": "stream",
     "text": [
      "Number of ebooks with less than  20  ratings:  55515\n",
      "New number of ratings: 170739\n"
     ]
    }
   ],
   "source": [
    "rare_ebooks = data.groupby('asin').count().filter(col(\"count\") < treshold)\n",
    "print(\"Number of ebooks with less than \", treshold, \" ratings: \", rare_ebooks.count())\n",
    "data = data.join(rare_ebooks, \"asin\", \"left_anti\")\n",
    "print(\"New number of ratings:\", data.count())"
   ]
  },
  {
   "cell_type": "markdown",
   "metadata": {
    "colab_type": "text",
    "id": "iy7NZZDwyI71"
   },
   "source": [
    "Data remaining:"
   ]
  },
  {
   "cell_type": "code",
   "execution_count": 11,
   "metadata": {
    "colab": {
     "base_uri": "https://localhost:8080/",
     "height": 69
    },
    "colab_type": "code",
    "id": "pJbGT8UHyJFE",
    "outputId": "cdb8e772-09ba-4630-d6e1-41cdbd40bf54"
   },
   "outputs": [
    {
     "name": "stdout",
     "output_type": "stream",
     "text": [
      "Number of ratings:  170739\n",
      "Number of ebooks: 4825\n",
      "Number of reviewers: 10163\n"
     ]
    }
   ],
   "source": [
    "nb_reviewers = data.select(\"reviewerID\").distinct().count()\n",
    "print(\"Number of ratings: \", data.count())\n",
    "print(\"Number of ebooks:\", data.select(\"asin\").distinct().count())\n",
    "print(\"Number of reviewers:\", nb_reviewers)"
   ]
  },
  {
   "cell_type": "markdown",
   "metadata": {
    "colab_type": "text",
    "id": "c1dFxgi3yVNV"
   },
   "source": [
    "## 2/ Data formatting\n"
   ]
  },
  {
   "cell_type": "markdown",
   "metadata": {
    "colab_type": "text",
    "id": "WDE7aAguyZ3Q"
   },
   "source": [
    "We create the dataframe *userRatings* with 2 columns: *reviewerID* and *ratings*:"
   ]
  },
  {
   "cell_type": "code",
   "execution_count": 12,
   "metadata": {
    "colab": {
     "base_uri": "https://localhost:8080/",
     "height": 208
    },
    "colab_type": "code",
    "id": "agn30J-5yaaw",
    "outputId": "d214f8a4-5eba-4c60-95b2-c18c3852e1e2"
   },
   "outputs": [
    {
     "name": "stdout",
     "output_type": "stream",
     "text": [
      "+--------------+--------------------+\n",
      "|    reviewerID|             ratings|\n",
      "+--------------+--------------------+\n",
      "|A1F0DP938FCEEW|[[B00H0V069M, 5.0...|\n",
      "|A2TNY4OUWVTJ0F|[[B00FFLU4LE, 2.0...|\n",
      "|A1CNQTCRQ35IMM|[[B00G8U2O0U, 3.0...|\n",
      "|A1NLWXTRON9H0P|[[B00HCT48DM, 5.0...|\n",
      "|A3PN9XIW1I85MG|[[B00EDDC0NK, 5.0...|\n",
      "+--------------+--------------------+\n",
      "only showing top 5 rows\n",
      "\n"
     ]
    },
    {
     "data": {
      "text/plain": [
       "DataFrame[reviewerID: string, ratings: array<struct<asin:string,overall:double>>]"
      ]
     },
     "execution_count": 12,
     "metadata": {},
     "output_type": "execute_result"
    }
   ],
   "source": [
    "# Create the dataframe userRatings with 2 cols: \"reviewerID\" and \"ratings\" (the list of the ebooks the user rated and the rating)\n",
    "userRatings = data.withColumn(\"rates\", struct(\"asin\", \"overall\")).groupby(\"reviewerID\").agg(F.collect_list(\"rates\").alias(\"ratings\"))\n",
    "userRatings.show(5)\n",
    "data.unpersist()\n",
    "userRatings.cache()"
   ]
  },
  {
   "cell_type": "markdown",
   "metadata": {
    "colab_type": "text",
    "id": "GAB3HuKGyjUC"
   },
   "source": [
    "We compute the number of ratings per user:"
   ]
  },
  {
   "cell_type": "code",
   "execution_count": 13,
   "metadata": {
    "colab": {
     "base_uri": "https://localhost:8080/",
     "height": 469
    },
    "colab_type": "code",
    "id": "3DhvjK8ZyknL",
    "outputId": "6ae109ed-9edf-415b-ba71-01813968ade2"
   },
   "outputs": [
    {
     "name": "stdout",
     "output_type": "stream",
     "text": [
      "+--------------+--------------------+--------------+\n",
      "|    reviewerID|             ratings|number_ratings|\n",
      "+--------------+--------------------+--------------+\n",
      "|A1JLU5H1CCENWX|[[B00FFLU4LE, 5.0...|           441|\n",
      "| A2YJ8VP1SSHJ7|[[B007YN8IGE, 5.0...|           307|\n",
      "|A3IQ0P3M39IY8U|[[B008LX70HE, 5.0...|           231|\n",
      "| ALY4MQYVAEE4U|[[B00H0V069M, 5.0...|           219|\n",
      "|A2VXSQHJWZAQGY|[[B00EBSOLFW, 3.0...|           185|\n",
      "|A1ENV91MFAEVA3|[[B00H0V069M, 5.0...|           184|\n",
      "| AW4NFCPN81CS3|[[B00FKERXXS, 4.0...|           174|\n",
      "|A3KBRXW4PKK2MT|[[B00HCMZZQ8, 5.0...|           174|\n",
      "|A3U41P3MHAEXYU|[[B00FFLU4LE, 3.0...|           173|\n",
      "|A1JKGTL51HHTU1|[[B00COU1A7G, 4.0...|           171|\n",
      "|A1BQO66R6OLCCW|[[B00HFAGOM6, 5.0...|           169|\n",
      "| AD9HAE7DPTQDG|[[B003VYC776, 4.0...|           168|\n",
      "|A3A7FF87LEVCQ1|[[B005J5CZHW, 1.0...|           168|\n",
      "| A3LXRIY0HE71K|[[B00H0V069M, 5.0...|           167|\n",
      "|A3GWE80SUGORJD|[[B00ET55NGS, 5.0...|           163|\n",
      "|A1O79BLZSTP53I|[[B008BP0BQE, 5.0...|           160|\n",
      "|A3KM84RAZA7XXC|[[B00H0V069M, 5.0...|           157|\n",
      "|A3FOL8CN5A1TFR|[[B00KBA6PKS, 5.0...|           153|\n",
      "|A2UNMDJYXPEQZ3|[[B00B0J815Q, 2.0...|           153|\n",
      "|A1TNVUMSPY8BM1|[[B00DP5AS7W, 4.0...|           151|\n",
      "+--------------+--------------------+--------------+\n",
      "only showing top 20 rows\n",
      "\n"
     ]
    }
   ],
   "source": [
    "def count_ratings(x):\n",
    "    \"\"\" Return the number of ratings given by a user\"\"\"\n",
    "    return int(len(x))\n",
    "\n",
    "udf_count_ratings = udf(count_ratings, IntegerType())\n",
    "\n",
    "userRatings = userRatings.withColumn(\"number_ratings\", udf_count_ratings(\"ratings\"))\n",
    "userRatings = userRatings.orderBy(\"number_ratings\", ascending=False)\n",
    "userRatings.show()"
   ]
  },
  {
   "cell_type": "code",
   "execution_count": 14,
   "metadata": {
    "colab": {
     "base_uri": "https://localhost:8080/",
     "height": 173
    },
    "colab_type": "code",
    "id": "Mg6vDKtqypzB",
    "outputId": "ee0aa80f-c705-4d21-cbdd-0dacf7a602f1"
   },
   "outputs": [
    {
     "name": "stdout",
     "output_type": "stream",
     "text": [
      "Schema:\n",
      "root\n",
      " |-- reviewerID: string (nullable = true)\n",
      " |-- ratings: array (nullable = true)\n",
      " |    |-- element: struct (containsNull = true)\n",
      " |    |    |-- asin: string (nullable = true)\n",
      " |    |    |-- overall: double (nullable = true)\n",
      " |-- number_ratings: integer (nullable = true)\n",
      "\n"
     ]
    }
   ],
   "source": [
    "print(\"Schema:\")\n",
    "userRatings.printSchema()"
   ]
  },
  {
   "cell_type": "markdown",
   "metadata": {
    "colab_type": "text",
    "id": "HofIkXKSHJqp"
   },
   "source": [
    "## 3/ Similarities between users\n",
    "\n",
    "In this part we calculate a similarity coefficient between each user and a reference user (user Y).\n",
    "\n",
    "First, we prepare the data of the user Y:"
   ]
  },
  {
   "cell_type": "code",
   "execution_count": 15,
   "metadata": {
    "colab": {},
    "colab_type": "code",
    "id": "CiyKbSAvy0J-"
   },
   "outputs": [],
   "source": [
    "USER_Y = \"A1JLU5H1CCENWX\""
   ]
  },
  {
   "cell_type": "code",
   "execution_count": 16,
   "metadata": {
    "colab": {},
    "colab_type": "code",
    "id": "FEFVaJFXUmp1"
   },
   "outputs": [],
   "source": [
    "def ratings_of_one_user(reviewerID):\n",
    "    \"\"\" List the ebooks and associated ratings given by the user with the id reviewerID. Returns a column containing a dict: {\"bookID\": \"rating\"}\"\"\"\n",
    "    user = userRatings.where(col(\"reviewerID\") == reviewerID)\n",
    "    ratings = user.collect()[0].ratings\n",
    "\n",
    "    user_ratings = dict()\n",
    "    for item in ratings:\n",
    "        user_ratings[item.asin] = item.overall\n",
    "\n",
    "    col_user_ratings = create_map([lit(x) for x in chain(*user_ratings.items())])\n",
    "    return col_user_ratings\n",
    "\n",
    "user_Y_ratings = ratings_of_one_user(USER_Y)"
   ]
  },
  {
   "cell_type": "markdown",
   "metadata": {},
   "source": [
    "We compute the number of common rated ebooks between user x and user y:"
   ]
  },
  {
   "cell_type": "code",
   "execution_count": 17,
   "metadata": {
    "colab": {
     "base_uri": "https://localhost:8080/",
     "height": 469
    },
    "colab_type": "code",
    "id": "vR-88ubTy5t7",
    "outputId": "9b22bce5-f084-4fb2-a160-0e0fa4fa63f4"
   },
   "outputs": [
    {
     "name": "stdout",
     "output_type": "stream",
     "text": [
      "+--------------+--------------------+--------------+--------------+\n",
      "|    reviewerID|             ratings|number_ratings|common_ratings|\n",
      "+--------------+--------------------+--------------+--------------+\n",
      "|A1JLU5H1CCENWX|[[B00FFLU4LE, 5.0...|           441|           441|\n",
      "|A1ENV91MFAEVA3|[[B00H0V069M, 5.0...|           184|            61|\n",
      "| ALY4MQYVAEE4U|[[B00H0V069M, 5.0...|           219|            52|\n",
      "|A3KM84RAZA7XXC|[[B00H0V069M, 5.0...|           157|            49|\n",
      "|A1O5BMIWBH4OG2|[[B00FMHPXFS, 5.0...|           124|            40|\n",
      "|A21HD9GWN5OHDZ|[[B00HCMZZQ8, 5.0...|            71|            38|\n",
      "|A3361XGKYF17S3|[[B00FFLU4LE, 5.0...|           115|            38|\n",
      "|A2RYT2UPEQXUAV|[[B00H0V069M, 5.0...|           129|            38|\n",
      "|A3JCJ0PRFLNHYP|[[B00GNRGP2G, 5.0...|           115|            35|\n",
      "|A1HAX9F7HY0D5V|[[B00IGGCCUQ, 4.0...|           125|            35|\n",
      "|A3W3XC01BFJJMR|[[B00FFLU4LE, 3.0...|           132|            35|\n",
      "| AFLUSKCVBJ8UG|[[B00FFLU4LE, 2.0...|            95|            35|\n",
      "|A3KBRXW4PKK2MT|[[B00HCMZZQ8, 5.0...|           174|            34|\n",
      "| A3LXRIY0HE71K|[[B00H0V069M, 5.0...|           167|            34|\n",
      "|A1F5ZAUCP4KDVG|[[B00H0V069M, 5.0...|           106|            34|\n",
      "|A13LERNQ8R7267|[[B00FFLU4LE, 5.0...|           103|            33|\n",
      "|A3TMD3W16REBOQ|[[B00EPZUSYY, 5.0...|            83|            32|\n",
      "|A13KP9R4K5RZES|[[B00HCMZZQ8, 5.0...|            85|            32|\n",
      "|A3IT9Z7O9IK7BM|[[B00H0V069M, 5.0...|           121|            32|\n",
      "|A1X2URS71RRMMF|[[B00COU1A7G, 5.0...|           138|            31|\n",
      "+--------------+--------------------+--------------+--------------+\n",
      "only showing top 20 rows\n",
      "\n"
     ]
    }
   ],
   "source": [
    "def count_simil(x, y1):\n",
    "    \"\"\" Count the number of common rated ebooks between user x and user y\"\"\"\n",
    "    # Changement de format des données\n",
    "    x = [i for i in x]\n",
    "    x1 = dict()\n",
    "    for item in x:\n",
    "        x1[item.asin] = item.overall\n",
    "\n",
    "    # common: livres notés en commun\n",
    "    common = x1.keys() & y1.keys()\n",
    "    return len(common)\n",
    "    \n",
    "udf_count_simil = udf(count_simil, IntegerType())\n",
    "\n",
    "userRatings = userRatings.withColumn('common_ratings', udf_count_simil('ratings', user_Y_ratings))\n",
    "userRatings = userRatings.orderBy(\"common_ratings\", ascending=False)\n",
    "userRatings.show()"
   ]
  },
  {
   "cell_type": "markdown",
   "metadata": {},
   "source": [
    "Let x and y be two users. We note:<br />\n",
    "— *rated* the set of ebooks rated by both users x and y<br />\n",
    "— *ratX* the ratings of x on those ebooks<br />\n",
    "— *ratY* the ratings of y on those ebooks<br />\n",
    "We then define the similarity between users x and y as:<br />\n",
    "\n",
    "$simil(x, y) = \\frac{\\sum_{m \\in rated}(rating(x, m) - mean(ratX)) \\times rating(y, m) - mean(ratY))}\n",
    "{(variance(ratX) \\times variance(ratY))^{0.5}}\n",
    "\\times log(1 + rated)$\n",
    "\n",
    "The similarity is based on [Pearson correlation coefficient](https://en.wikipedia.org/wiki/Pearson_correlation_coefficient) modified to take into account the number of rated items (the $log(1 + rated)$ factor avoids spurious correlations). Note that for true recommendation we set $simil(x, x) = 0$ so that our recommendation system is not polluted by auto recommendation."
   ]
  },
  {
   "cell_type": "markdown",
   "metadata": {
    "colab_type": "text",
    "id": "nQVxdAyHy6zv"
   },
   "source": [
    "We compute the number of ebooks rated in common between each user and user Y:"
   ]
  },
  {
   "cell_type": "markdown",
   "metadata": {
    "colab_type": "text",
    "id": "H0jhhcBDzGQS"
   },
   "source": [
    "We compute the similarity between each user and user Y. A negative similarity means a global opposite opinion:"
   ]
  },
  {
   "cell_type": "code",
   "execution_count": 18,
   "metadata": {
    "colab": {
     "base_uri": "https://localhost:8080/",
     "height": 469
    },
    "colab_type": "code",
    "id": "cX7BxF1AzGzR",
    "outputId": "3f67fcd1-bde3-4a31-8f86-fcc15f0f9197"
   },
   "outputs": [
    {
     "name": "stdout",
     "output_type": "stream",
     "text": [
      "+--------------+--------------------+--------------+--------------+------------------+\n",
      "|    reviewerID|             ratings|number_ratings|common_ratings|             simil|\n",
      "+--------------+--------------------+--------------+--------------+------------------+\n",
      "|A1WBGIL46NUFFU|[[B00H0V069M, 5.0...|            39|            13|2.4904821780308013|\n",
      "|A3BZXCM7XQ7XHN|[[B00G8U2O0U, 5.0...|            32|            10|2.3978952727983707|\n",
      "|A163XZU3HM4EHV|[[B00K9V2OPE, 5.0...|            49|             9| 2.302585092994046|\n",
      "|A3OJ7P6FIV88E4|[[B00H0V069M, 5.0...|            57|            25|2.2553152042016666|\n",
      "|A34F4IHXZYZ7KS|[[B00JLTRZ18, 5.0...|            29|            11|2.2013280290078576|\n",
      "| A9FCO8RDJVABW|[[B00EPZUSYY, 5.0...|            59|            13| 2.158518984518651|\n",
      "| ADR7NQOEU8OFL|[[B00IVSF77Y, 5.0...|            26|             7|2.0794415416798357|\n",
      "|A1XA4BJ23AVBT7|[[B00G7RAM5I, 5.0...|            58|             7|2.0794415416798357|\n",
      "|A3JEN29PPBLJ9P|[[B0091YHBNA, 4.0...|            12|             7|2.0794415416798353|\n",
      "|A103KWX1QFCG6I|[[B00F8F3JZK, 4.0...|            32|            14| 2.059031220704651|\n",
      "|A17QMTJ67OZT2D|[[B00I4ABC3W, 5.0...|            80|             9|2.0147619563697905|\n",
      "|A2SMHIVHZGSLNF|[[B00E6SKGNI, 5.0...|            47|            10|1.9882297266097753|\n",
      "|A1A34DY20PYGDY|[[B00EDDC0NK, 5.0...|            53|            17|1.9789022642194882|\n",
      "| A6SR7U2PNGN0N|[[B003VYC776, 4.0...|           132|             7|1.9639170115865117|\n",
      "|A24J97BN1RW91Q|[[B00ENTQWVU, 5.0...|            29|             6|1.9459101490553132|\n",
      "|A1EA304VGWFZSQ|[[B00F8F3JZK, 5.0...|            16|             8| 1.929844462776054|\n",
      "| AXM5ZEK9I7CWL|[[B00H0V069M, 5.0...|            71|            25|1.9248535899396444|\n",
      "|A1LYMNC951UTVN|[[B00EQC7HJK, 5.0...|            35|            11|1.9128820308882577|\n",
      "|A136OGXBZ38QRB|[[B00H0V069M, 5.0...|            23|            12|1.8827543541801885|\n",
      "|A31L5PCBT6RSR2|[[B00EPZUSYY, 5.0...|            86|            27|1.8771834161054464|\n",
      "+--------------+--------------------+--------------+--------------+------------------+\n",
      "only showing top 20 rows\n",
      "\n"
     ]
    }
   ],
   "source": [
    "def compute_simil(x, y1):\n",
    "    \"\"\" Compute similarity between user x and y (negative simil means a global opposite opinion) \"\"\"\n",
    "    # Changement de format des données\n",
    "    x = [i for i in x]\n",
    "    x1 = dict()\n",
    "    for item in x:\n",
    "        x1[item.asin] = item.overall\n",
    "    \n",
    "    # On conserve uniquement les ebooks en commun\n",
    "    common = x1.keys() & y1.keys()\n",
    "    x_ratings = [x1[c] for c in common]\n",
    "    y_ratings = [y1[c] for c in common]\n",
    "    if len(common) == 0:\n",
    "        return 0.0\n",
    "\n",
    "    # Calcul de la note moyenne et de la variance pour chaque utilisateur\n",
    "    x_mean = np.mean(x_ratings)\n",
    "    y_mean = np.mean(y_ratings)\n",
    "    x_var = np.var(x_ratings) * len(x_ratings) \n",
    "    y_var = np.var(y_ratings) * len(y_ratings)\n",
    "    if x_var * y_var == 0:\n",
    "        return 0.0\n",
    "    \n",
    "    # Calcul de la similarité\n",
    "    tmp = 0\n",
    "    for i in range(len(x_ratings)):\n",
    "        tmp += (x_ratings[i] - x_mean) * (y_ratings[i] - y_mean)\n",
    "        \n",
    "    return float(math.log(len(common)+1)*tmp / ((x_var * y_var)**0.5))\n",
    "    \n",
    "    \n",
    "udf_compute_simil = udf(compute_simil, DoubleType())\n",
    "\n",
    "userRatings = userRatings.withColumn('simil', udf_compute_simil('ratings', user_Y_ratings))\n",
    "# On met la similarité de l'utilisateur Y avec lui-même à 0\n",
    "userRatings = userRatings.withColumn('simil', when(col(\"reviewerID\") == USER_Y, 0.0).otherwise(col(\"simil\")))\n",
    "userRatings = userRatings.orderBy(\"simil\", ascending=False)\n",
    "userRatings.show()"
   ]
  },
  {
   "cell_type": "markdown",
   "metadata": {
    "colab_type": "text",
    "id": "F7x33LllzLk5"
   },
   "source": [
    "We display the statistics on the similarity coefficient (means, etc.):"
   ]
  },
  {
   "cell_type": "code",
   "execution_count": 19,
   "metadata": {
    "colab": {
     "base_uri": "https://localhost:8080/",
     "height": 191
    },
    "colab_type": "code",
    "id": "r18_YC3fzMEa",
    "outputId": "04ce27f7-39d7-4639-c119-4f39ae751924"
   },
   "outputs": [
    {
     "name": "stdout",
     "output_type": "stream",
     "text": [
      "+-------+--------------------+\n",
      "|summary|               simil|\n",
      "+-------+--------------------+\n",
      "|  count|               10163|\n",
      "|   mean|0.008626206332236635|\n",
      "| stddev|  0.2320390597097268|\n",
      "|    min| -1.7917594692280552|\n",
      "|    max|  2.4904821780308013|\n",
      "+-------+--------------------+\n",
      "\n"
     ]
    }
   ],
   "source": [
    "userRatings.select(\"simil\").describe().show()"
   ]
  },
  {
   "cell_type": "markdown",
   "metadata": {
    "colab_type": "text",
    "id": "y2jJxNu8W-oB"
   },
   "source": [
    "## 4/ Ebook recommendations for user Y\n",
    "\n",
    "In this part we recommend ebooks to user Y from the ratings given by the other users and the similarity coefficients of these users. To do this we calculate a score (grade) for each ebook, which permits to rank them."
   ]
  },
  {
   "cell_type": "markdown",
   "metadata": {
    "colab_type": "text",
    "id": "jBbVgYgNzZcT"
   },
   "source": [
    "### Data formatting"
   ]
  },
  {
   "cell_type": "code",
   "execution_count": 20,
   "metadata": {
    "colab": {
     "base_uri": "https://localhost:8080/",
     "height": 295
    },
    "colab_type": "code",
    "id": "5Xl3sN2GzTZH",
    "outputId": "719de852-04bb-4100-f581-27e554eb2a02"
   },
   "outputs": [
    {
     "name": "stdout",
     "output_type": "stream",
     "text": [
      "+--------------+----------+-------+------------------+\n",
      "|    reviewerID|      asin|overall|             simil|\n",
      "+--------------+----------+-------+------------------+\n",
      "|A1WBGIL46NUFFU|B00KC8Q522|    5.0|2.4904821780308013|\n",
      "|A1WBGIL46NUFFU|B00GT6651C|    4.0|2.4904821780308013|\n",
      "|A1WBGIL46NUFFU|B00JXWO17O|    3.0|2.4904821780308013|\n",
      "|A1WBGIL46NUFFU|B00JKW0680|    5.0|2.4904821780308013|\n",
      "|A1WBGIL46NUFFU|B00IO545WM|    4.0|2.4904821780308013|\n",
      "|A1WBGIL46NUFFU|B00AR49H2Q|    5.0|2.4904821780308013|\n",
      "|A1WBGIL46NUFFU|B00JLTRZ18|    4.0|2.4904821780308013|\n",
      "|A1WBGIL46NUFFU|B00JMSXEZE|    5.0|2.4904821780308013|\n",
      "|A1WBGIL46NUFFU|B00G8U2O0U|    5.0|2.4904821780308013|\n",
      "|A1WBGIL46NUFFU|B00H0V069M|    5.0|2.4904821780308013|\n",
      "+--------------+----------+-------+------------------+\n",
      "only showing top 10 rows\n",
      "\n"
     ]
    }
   ],
   "source": [
    "ebookRatings = data.join(userRatings, on=\"reviewerID\").select(\"reviewerID\", \"asin\", \"overall\", \"simil\").orderBy('simil', ascending=False)\n",
    "ebookRatings.show(10)"
   ]
  },
  {
   "cell_type": "code",
   "execution_count": 21,
   "metadata": {
    "colab": {
     "base_uri": "https://localhost:8080/",
     "height": 295
    },
    "colab_type": "code",
    "id": "zldKxVDmzd9Y",
    "outputId": "b75f9ca8-b6b6-4993-8e8f-83ca49644ae8"
   },
   "outputs": [
    {
     "name": "stdout",
     "output_type": "stream",
     "text": [
      "Number of ebook to rank:  4825\n",
      "+----------+--------------------+\n",
      "|      asin|             ratings|\n",
      "+----------+--------------------+\n",
      "|B00EPZUSYY|[[A9FCO8RDJVABW, ...|\n",
      "|B00FKERXXS|[[A31L5PCBT6RSR2,...|\n",
      "|B00H0V069M|[[AXM5ZEK9I7CWL, ...|\n",
      "|B00K9V2OPE|[[A31L5PCBT6RSR2,...|\n",
      "|B005F0WR88|[[A2TGLLUT78OR9S,...|\n",
      "|B007YN8IGE|[[A1SVKXS358TXW2,...|\n",
      "|B00B0J815Q|[[A11HGVNM8Q5A2O,...|\n",
      "|B008LX70HE|[[AM4XZBQH36O2M, ...|\n",
      "|B00F64JFXS|[[A143IV9N6HPKKB,...|\n",
      "|B00I6ZXPQM|[[A125AUW6J0LGR8,...|\n",
      "+----------+--------------------+\n",
      "only showing top 10 rows\n",
      "\n"
     ]
    }
   ],
   "source": [
    "# We group for each ebook, in the ratings column, the user ids, the ratings and the similarity coefficient of each user who rated the ebook\n",
    "ebookRatings = ebookRatings.withColumn(\"rates\", struct(\"reviewerID\", \"overall\", \"simil\")).groupby(\"asin\").agg(F.collect_list(\"rates\").alias(\"ratings\"))\n",
    "print(\"Number of ebook to rank: \", ebookRatings.count())\n",
    "ebookRatings.show(10)"
   ]
  },
  {
   "cell_type": "markdown",
   "metadata": {
    "colab_type": "text",
    "id": "mvA8iTTPzi8G"
   },
   "source": [
    "### Grade calculation for each ebook"
   ]
  },
  {
   "cell_type": "markdown",
   "metadata": {},
   "source": [
    "The recommendation grade of an ebook $k$ for user 1 will be the average of ratings by other users ponderated by similarities between users. As in section 4.6, we don’t want this list polluted by averages computed over very few values therefore, in practice we compute the following value :\n",
    "\n",
    "$grade(k) = \\frac{\\sum_{x \\in rated(x)}rating(x, k)  \\times  simil(x, 1)}\n",
    "{\\alpha + \\sum_{x \\in rated(x)} simil(x, 1)}$\n",
    "\n",
    "where $\\alpha \\approx 0.5$ is the average value of $simil(x, 1)$."
   ]
  },
  {
   "cell_type": "code",
   "execution_count": 22,
   "metadata": {
    "colab": {
     "base_uri": "https://localhost:8080/",
     "height": 469
    },
    "colab_type": "code",
    "id": "DX3dyUfezlhS",
    "outputId": "00ad38df-6cfb-48c9-e0ff-5465b8ffcd47"
   },
   "outputs": [
    {
     "name": "stdout",
     "output_type": "stream",
     "text": [
      "+----------+--------------------+------------------+\n",
      "|      asin|             ratings|             grade|\n",
      "+----------+--------------------+------------------+\n",
      "|B0085WGUMM|[[A1K4S4MWXI9E9M,...| 8415.059040796705|\n",
      "|B00CK8CKZS|[[A179INWJ0ZLOB4,...|1482.2542559020508|\n",
      "|B00DRF28C8|[[AM4XZBQH36O2M, ...| 705.5860918183162|\n",
      "|B00HCMAUIQ|[[AI0FBRMXX4R8C, ...|  516.687758855012|\n",
      "|B00DGYKVWE|[[A17J3U3XOZ5A4B,...| 466.5753370443711|\n",
      "|B00AP7Z27Y|[[A06120993HKK17S...| 462.3666351681521|\n",
      "|B00GZ9CSHS|[[A179INWJ0ZLOB4,...|450.62026780125086|\n",
      "|B0092UD3GM|[[A2SRUC3I2U1CAY,...|400.37470932880166|\n",
      "|B007QTTKZY|[[A3OC8ZG1S3OAVA,...| 373.1287822397704|\n",
      "|B00DJF2862|[[A2SMHIVHZGSLNF,...| 289.8320493912405|\n",
      "|B009WCFBJ2|[[A13H6BLWC6IGOX,...|253.48831297095262|\n",
      "|B00HYE3L4W|[[A1DWI3TBD5RZ4J,...|197.45763912911318|\n",
      "|B00A43ZQI4|[[AM4XZBQH36O2M, ...| 157.4631797450386|\n",
      "|B00A13YLV0|[[A10K4CN7CEA3K0,...|139.14219471830756|\n",
      "|B00AXHNFJS|[[A3361XGKYF17S3,...|131.73899927758555|\n",
      "|B007HQ58CK|[[A10K4CN7CEA3K0,...| 114.3745161286299|\n",
      "|B00IXAZPX6|[[A2LH65L0AU19Q6,...|109.01564312296429|\n",
      "|B007R82KLK|[[A3TGY3ANGBNK7C,...|103.70828302781196|\n",
      "|B008WOUNIK|[[A2DYQLMTKM9LM8,...| 93.49792814261146|\n",
      "|B00IDIFMOK|[[A2A1411NATJ6UB,...| 93.49792814261146|\n",
      "+----------+--------------------+------------------+\n",
      "only showing top 20 rows\n",
      "\n"
     ]
    }
   ],
   "source": [
    "def compute_grade(x):\n",
    "    \"\"\" Compute the grade of an ebook for user Y, based on the simil with the other users \"\"\"\n",
    "    # Reshape data\n",
    "    x = [i for i in x]\n",
    "    x1 = dict()\n",
    "    res = 0\n",
    "    for item in x:\n",
    "        res += item.overall * item.simil\n",
    "        \n",
    "    dist = 0\n",
    "    for item in x:\n",
    "        dist +=  item.simil\n",
    "        \n",
    "    return res / (0.5 + dist)\n",
    "\n",
    "udf_compute_grade = udf(compute_grade, DoubleType())\n",
    "\n",
    "ebookRatings2 = ebookRatings.withColumn('grade', udf_compute_grade('ratings'))\n",
    "ebookRatings2 = ebookRatings2.orderBy('grade', ascending=False)\n",
    "ebookRatings2.show()"
   ]
  },
  {
   "cell_type": "markdown",
   "metadata": {
    "colab_type": "text",
    "id": "3VWH3p0jznyD"
   },
   "source": [
    "The distribution of the scores is displayed with a histogram:"
   ]
  },
  {
   "cell_type": "code",
   "execution_count": 23,
   "metadata": {
    "colab": {
     "base_uri": "https://localhost:8080/",
     "height": 379
    },
    "colab_type": "code",
    "id": "OnNOc_zlzq-C",
    "outputId": "7f21df11-1608-4991-81eb-6bde1c1380f3"
   },
   "outputs": [
    {
     "data": {
      "image/png": "[encoded data removed]",
      "text/plain": [
       "<Figure size 720x432 with 1 Axes>"
      ]
     },
     "metadata": {},
     "output_type": "display_data"
    }
   ],
   "source": [
    "plt.figure(figsize=(10,6))\n",
    "bins, counts = ebookRatings2.select('grade').rdd.flatMap(lambda x: x).histogram(20)\n",
    "plt.hist(bins[:-1], bins=bins, weights=counts)\n",
    "plt.show()"
   ]
  },
  {
   "cell_type": "markdown",
   "metadata": {
    "colab_type": "text",
    "id": "FPg-2iR-zs_k"
   },
   "source": [
    "Scores are concentrated around 0, which means that many ebooks are considered \"moderately\" relevant to the user. This is explained by the strong sparse nature of the data matrix; user Y has a similarity coefficient of 0 with many users and some ebooks are rated only by these users. This phenomenon is not a problem if we consider the fact of recommending only the most relevant ebooks (the first 10 for example)."
   ]
  },
  {
   "cell_type": "markdown",
   "metadata": {
    "colab_type": "text",
    "id": "lnxIQXpczzhd"
   },
   "source": [
    "### Deletion of ebooks already rated by the user"
   ]
  },
  {
   "cell_type": "markdown",
   "metadata": {
    "colab_type": "text",
    "id": "XDfIKxg8zzeo"
   },
   "source": [
    "We remove from the list of recommendations the ebooks already rated by the user Y."
   ]
  },
  {
   "cell_type": "code",
   "execution_count": 24,
   "metadata": {
    "colab": {
     "base_uri": "https://localhost:8080/",
     "height": 486
    },
    "colab_type": "code",
    "id": "-Qs1mP9Jzu-d",
    "outputId": "806ebcaa-e67b-4eb8-c285-b8e68aafe57e"
   },
   "outputs": [
    {
     "name": "stdout",
     "output_type": "stream",
     "text": [
      "4384\n",
      "+----------+--------------------+------------------+\n",
      "|      asin|             ratings|             grade|\n",
      "+----------+--------------------+------------------+\n",
      "|B0085WGUMM|[[A1K4S4MWXI9E9M,...| 8415.059040796705|\n",
      "|B00DRF28C8|[[AM4XZBQH36O2M, ...| 705.5860918183162|\n",
      "|B00DGYKVWE|[[A17J3U3XOZ5A4B,...| 466.5753370443711|\n",
      "|B00AP7Z27Y|[[A06120993HKK17S...| 462.3666351681521|\n",
      "|B00GZ9CSHS|[[A179INWJ0ZLOB4,...|450.62026780125086|\n",
      "|B0092UD3GM|[[A2SRUC3I2U1CAY,...|400.37470932880166|\n",
      "|B007QTTKZY|[[A3OC8ZG1S3OAVA,...| 373.1287822397704|\n",
      "|B009WCFBJ2|[[A13H6BLWC6IGOX,...|253.48831297095262|\n",
      "|B00HYE3L4W|[[A1DWI3TBD5RZ4J,...|197.45763912911318|\n",
      "|B00A43ZQI4|[[AM4XZBQH36O2M, ...| 157.4631797450386|\n",
      "|B00A13YLV0|[[A10K4CN7CEA3K0,...|139.14219471830756|\n",
      "|B007HQ58CK|[[A10K4CN7CEA3K0,...| 114.3745161286299|\n",
      "|B00IXAZPX6|[[A2LH65L0AU19Q6,...|109.01564312296429|\n",
      "|B007R82KLK|[[A3TGY3ANGBNK7C,...|103.70828302781196|\n",
      "|B008WOUNIK|[[A2DYQLMTKM9LM8,...| 93.49792814261146|\n",
      "|B00IDIFMOK|[[A2A1411NATJ6UB,...| 93.49792814261146|\n",
      "|B004NSVJ6Y|[[A1PD9G8DYDLYAQ,...| 93.49792814261146|\n",
      "|B0085H8AWU|[[A2XKX5TBB6WV00,...| 83.36445355465716|\n",
      "|B00EHSUFD8|[[A2PFCU5WLS5UIX,...| 81.18819350814206|\n",
      "|B00GW9F206|[[APKYBLUK40B6A, ...| 80.14501436697184|\n",
      "+----------+--------------------+------------------+\n",
      "only showing top 20 rows\n",
      "\n"
     ]
    }
   ],
   "source": [
    "# data_user_Y: list of ebooks rated by the user\n",
    "data_user_Y = data.filter(col(\"reviewerID\") == USER_Y)\n",
    "ebookRatings3 = ebookRatings2.join(data_user_Y, \"asin\", \"left_anti\") \\\n",
    "                             .orderBy('grade', ascending=False)\n",
    "print(ebookRatings3.count())\n",
    "ebookRatings3.show()"
   ]
  },
  {
   "cell_type": "markdown",
   "metadata": {
    "colab_type": "text",
    "id": "lMg4AvM0z46l"
   },
   "source": [
    "### Comparison of user ratings with recommendations"
   ]
  },
  {
   "cell_type": "markdown",
   "metadata": {
    "colab_type": "text",
    "id": "hENew0Hwz8pk"
   },
   "source": [
    "We now display only the ebooks already rated by user Y, to check if the user has given a good rating to the ebooks we recommend."
   ]
  },
  {
   "cell_type": "code",
   "execution_count": 25,
   "metadata": {
    "colab": {
     "base_uri": "https://localhost:8080/",
     "height": 486
    },
    "colab_type": "code",
    "id": "gDCcTmd4zw-1",
    "outputId": "6c5a603a-14a9-4e51-e863-02743979ffba"
   },
   "outputs": [
    {
     "name": "stdout",
     "output_type": "stream",
     "text": [
      "Number of ebooks rated by the user Y:  441\n",
      "+----------+--------------------+------------------+-------+\n",
      "|      asin|             ratings|             grade|overall|\n",
      "+----------+--------------------+------------------+-------+\n",
      "|B00CK8CKZS|[[A179INWJ0ZLOB4,...|1482.2542559020508|    5.0|\n",
      "|B00HCMAUIQ|[[AI0FBRMXX4R8C, ...|  516.687758855012|    5.0|\n",
      "|B00DJF2862|[[A2SMHIVHZGSLNF,...| 289.8320493912405|    5.0|\n",
      "|B00AXHNFJS|[[A3361XGKYF17S3,...|131.73899927758555|    5.0|\n",
      "|B00HFUJPO0|[[A3KM84RAZA7XXC,...| 74.61728194970675|    5.0|\n",
      "|B00DIGN4JC|[[A135NSTCX38DEI,...| 73.22160723880764|    5.0|\n",
      "|B00IH35OY4|[[AI0FBRMXX4R8C, ...| 65.41453296775954|    5.0|\n",
      "|B00AV8SY7C|[[A26GE9ZG68SKIQ,...| 38.33462077189433|    5.0|\n",
      "|B00EWTJJWA|[[A2J36T6J3GWT6O,...|37.174489416520494|    5.0|\n",
      "|B00H59M0NE|[[A24J97BN1RW91Q,...| 33.58156454551203|    4.0|\n",
      "|B00DY8HASU|[[A34F4IHXZYZ7KS,...|27.192226008448856|    4.0|\n",
      "|B00F7EBTUY|[[ACDUNU9TQ0OFF, ...|22.764721606461396|    5.0|\n",
      "|B006HMDJN0|[[A6SR7U2PNGN0N, ...| 20.15756279757429|    5.0|\n",
      "|B00K9R4MIU|[[A376U5S8TKOE69,...| 17.74326282165675|    5.0|\n",
      "|B00IN62OX4|[[A3Q6CMXMGESPOG,...|16.111051421873995|    5.0|\n",
      "|B00HGMX638|[[AZW65YZZ4PD3S, ...|14.461643331225954|    5.0|\n",
      "|B00I8XCJHS|[[A3E2YW0WOZ9TWL,...|13.748089964422283|    5.0|\n",
      "|B00C00YWC0|[[A105K4Y97HVFR8,...|13.706246028754272|    5.0|\n",
      "|B00CVCGYJQ|[[AM4XZBQH36O2M, ...|13.448834749479303|    5.0|\n",
      "|B00BZPLHJM|[[A6SR7U2PNGN0N, ...|12.392633020595722|    3.0|\n",
      "+----------+--------------------+------------------+-------+\n",
      "only showing top 20 rows\n",
      "\n"
     ]
    }
   ],
   "source": [
    "data_user_Y = data.filter(col(\"reviewerID\") == USER_Y)\n",
    "ebookRatings4 = ebookRatings2.join(data_user_Y, \"asin\", \"inner\") \\\n",
    "                              .select(\"asin\", \"ratings\", \"grade\", \"overall\") \\\n",
    "                              .orderBy('grade', ascending=False)\n",
    "print(\"Number of ebooks rated by the user Y: \", ebookRatings4.count())\n",
    "ebookRatings4.show()"
   ]
  },
  {
   "cell_type": "markdown",
   "metadata": {
    "colab_type": "text",
    "id": "gpwFLhaVz_cV"
   },
   "source": [
    "We display the distribution of the ratings assigned by the user for the first 100 recommended ebooks:"
   ]
  },
  {
   "cell_type": "code",
   "execution_count": 26,
   "metadata": {
    "colab": {
     "base_uri": "https://localhost:8080/",
     "height": 156
    },
    "colab_type": "code",
    "id": "wZzVGZXQ0B8Y",
    "outputId": "d4071def-867c-4eb0-9ea7-c098d7726eea"
   },
   "outputs": [
    {
     "name": "stdout",
     "output_type": "stream",
     "text": [
      "+-------+-----+\n",
      "|overall|count|\n",
      "+-------+-----+\n",
      "|    5.0|   87|\n",
      "|    4.0|   11|\n",
      "|    3.0|    2|\n",
      "+-------+-----+\n",
      "\n"
     ]
    }
   ],
   "source": [
    "ebookRatings4.limit(100).groupby(\"overall\").count().show()"
   ]
  },
  {
   "cell_type": "markdown",
   "metadata": {
    "colab_type": "text",
    "id": "xMLzEUh90D8p"
   },
   "source": [
    "## 5/ Comparison of similarities between users\n",
    "\n",
    "In this part we will calculate the similarity of each user with not one but 10 users, and see if the users have the most similarity with always the same user or not."
   ]
  },
  {
   "cell_type": "code",
   "execution_count": 27,
   "metadata": {
    "colab": {
     "base_uri": "https://localhost:8080/",
     "height": 489
    },
    "colab_type": "code",
    "id": "C1dDTfjz0KXD",
    "outputId": "570d6fe9-9595-412f-9f2c-287900d1ee74"
   },
   "outputs": [
    {
     "name": "stdout",
     "output_type": "stream",
     "text": [
      "+--------------+--------------------+--------------+--------------+------------------+--------------------+--------+-------------------+--------+--------------------+--------+-------------------+--------+-------+--------+--------------------+--------+-------------------+--------+--------------------+--------+-------------------+--------+\n",
      "|    reviewerID|             ratings|number_ratings|common_ratings|             simil|             simil_1|common_1|            simil_2|common_2|             simil_3|common_3|            simil_4|common_4|simil_5|common_5|             simil_6|common_6|            simil_7|common_7|             simil_8|common_8|            simil_9|common_9|\n",
      "+--------------+--------------------+--------------+--------------+------------------+--------------------+--------+-------------------+--------+--------------------+--------+-------------------+--------+-------+--------+--------------------+--------+-------------------+--------+--------------------+--------+-------------------+--------+\n",
      "|A1WBGIL46NUFFU|[[B00H0V069M, 5.0...|            39|            13|2.4904821780308013|                 0.0|       0|                0.0|       0|  -1.138957039391365|       7|                0.0|       0|    0.0|       6|                 0.0|       3|                0.0|       1|                 0.0|       5|                0.0|       4|\n",
      "|A3BZXCM7XQ7XHN|[[B00G8U2O0U, 5.0...|            32|            10|2.3978952727983707|                 0.0|       0|                0.0|       0|                 0.0|       4|                0.0|       0|    0.0|       4|                 0.0|       4|                0.0|       0|                 0.0|       7|                0.0|       1|\n",
      "|A163XZU3HM4EHV|[[B00K9V2OPE, 5.0...|            49|             9| 2.302585092994046|                 0.0|       0|                0.0|       1|                 0.0|       7|                0.0|       0|    0.0|       3|                 0.0|       1|                0.0|       2|                 0.0|       0|                0.0|       5|\n",
      "|A3OJ7P6FIV88E4|[[B00H0V069M, 5.0...|            57|            25|2.2553152042016666|                 0.0|       1| 1.0986122886681098|       2|  2.0666494875152077|      15|                0.0|       1|    0.0|      10|                 0.0|       6|                0.0|       3|                 0.0|       1|                0.0|       2|\n",
      "|A34F4IHXZYZ7KS|[[B00JLTRZ18, 5.0...|            29|            11|2.2013280290078576|                 0.0|       0|                0.0|       0| -0.2878231366242557|       9|                0.0|       2|    0.0|       6|                 0.0|       1|                0.0|       1|                 0.0|       2|                0.0|       2|\n",
      "| A9FCO8RDJVABW|[[B00EPZUSYY, 5.0...|            59|            13| 2.158518984518651|                 0.0|       2|                0.0|       2| -1.2039146892625188|      12|                0.0|       1|    0.0|       6|  0.3000809870099112|      11|                0.0|       1| 0.19538707650830725|       9|-0.6719098009605208|       5|\n",
      "|A1XA4BJ23AVBT7|[[B00G7RAM5I, 5.0...|            58|             7|2.0794415416798357|                 0.0|      11|                0.0|       4|                 0.0|       5|                0.0|       2|    0.0|       0|                 0.0|       1| 1.2307016386105076|       6|                 0.0|       1|                0.0|       1|\n",
      "| ADR7NQOEU8OFL|[[B00IVSF77Y, 5.0...|            26|             7|2.0794415416798357|                 0.0|       0|                0.0|       0|                 0.0|       2|                0.0|       1|    0.0|       7|                 0.0|       1|                0.0|       0|                 0.0|       0|                0.0|       1|\n",
      "|A3JEN29PPBLJ9P|[[B0091YHBNA, 4.0...|            12|             7|2.0794415416798353|                 0.0|       0|                0.0|       0|                 0.0|       0|                0.0|       0|    0.0|       0|                 0.0|       0|                0.0|       0|                 0.0|       0|                0.0|       0|\n",
      "|A103KWX1QFCG6I|[[B00F8F3JZK, 4.0...|            32|            14| 2.059031220704651|                 0.0|       1|                0.0|       1|                 0.0|       2|                0.0|       0|    0.0|       4|                 0.0|       1| 0.4479398673070139|       5|                 0.0|       1|                0.0|       3|\n",
      "|A17QMTJ67OZT2D|[[B00I4ABC3W, 5.0...|            80|             9|2.0147619563697905|                 0.0|      12|                0.0|       0|                 0.0|       4| 1.0986122886681098|       2|    0.0|       1|                 0.0|       1| 0.9947466070545126|       6| -0.9292094119878171|       4|                0.0|       1|\n",
      "|A2SMHIVHZGSLNF|[[B00E6SKGNI, 5.0...|            47|            10|1.9882297266097753|                 0.0|       4| -1.055512545192035|       8| -0.9292094119878171|       4| 1.2716915210680435|      11|    0.0|       3|                 0.0|       1|-0.6931471805599453|       3|                 0.0|       0| 1.0986122886681098|       2|\n",
      "|A1A34DY20PYGDY|[[B00EDDC0NK, 5.0...|            53|            17|1.9789022642194882|                 0.0|       1|                0.0|       2|  0.4667704392162992|      18|                0.0|       2|    0.0|      10| -0.3705027526090929|      15|-0.6931471805599453|       3| -1.0986122886681098|       2|                0.0|       3|\n",
      "| A6SR7U2PNGN0N|[[B003VYC776, 4.0...|           132|             7|1.9639170115865117|0.051304266681236374|      43| 0.5917350774458606|      26| -0.2619850088181714|       3| 0.9009994007038438|      15|    0.0|       0| -0.2930199620254551|       9|                0.0|       3| -0.3076754096526269|       6|                0.0|       2|\n",
      "|A24J97BN1RW91Q|[[B00ENTQWVU, 5.0...|            29|             6|1.9459101490553132|                 0.0|       1|-1.1230267857603748|       7|                 0.0|       2| 1.6094379124341003|       4|    0.0|       1|                 0.0|       1|                0.0|       1|                 0.0|       2|                0.0|       0|\n",
      "|A1EA304VGWFZSQ|[[B00F8F3JZK, 5.0...|            16|             8| 1.929844462776054|                 0.0|       0|                0.0|       0|                 0.0|       0|                0.0|       0|    0.0|       0|                 0.0|       0| 1.0986122886681098|       2| -0.6931471805599453|       3|-1.0986122886681098|       2|\n",
      "| AXM5ZEK9I7CWL|[[B00H0V069M, 5.0...|            71|            25|1.9248535899396444|                 0.0|       7|                0.0|       2|-0.21442716253067268|       8|-0.6931471805599453|       3|    0.0|       6| 0.38918202981106265|       6|                0.0|       3|-0.37042801244448215|      11|-0.8970131774626957|       8|\n",
      "|A1LYMNC951UTVN|[[B00EQC7HJK, 5.0...|            35|            11|1.9128820308882577|                 0.0|       0|                0.0|       2|                 0.0|       4|-1.0986122886681098|       2|    0.0|       7|                 0.0|       1|                0.0|       1|                 0.0|       1|                0.0|       0|\n",
      "|A136OGXBZ38QRB|[[B00H0V069M, 5.0...|            23|            12|1.8827543541801885|                 0.0|       0|                0.0|       0|  1.6094379124341003|       4|                0.0|       0|    0.0|       7|  1.0986122886681098|       2|                0.0|       3|                 0.0|       0|                0.0|       2|\n",
      "|A31L5PCBT6RSR2|[[B00EPZUSYY, 5.0...|            86|            27|1.8771834161054464|                 0.0|       1|                0.0|       0|  0.7875597139311105|      18|                0.0|       2|    0.0|      16|-0.25031342650560073|      12| 0.7848954711553797|      10| -1.0479400352726853|       3| -0.485913107427971|      18|\n",
      "+--------------+--------------------+--------------+--------------+------------------+--------------------+--------+-------------------+--------+--------------------+--------+-------------------+--------+-------+--------+--------------------+--------+-------------------+--------+--------------------+--------+-------------------+--------+\n",
      "only showing top 20 rows\n",
      "\n"
     ]
    }
   ],
   "source": [
    "userRatings2 = userRatings\n",
    "users = [\"A2YJ8VP1SSHJ7\", \"A3IQ0P3M39IY8U\",\"ALY4MQYVAEE4U\",\"A2VXSQHJWZAQGY\",\"A1ENV91MFAEVA3\",\"A3KBRXW4PKK2MT\",\"AW4NFCPN81CS3\",\"A3U41P3MHAEXYU\", \"A1JKGTL51HHTU1\"]\n",
    "for index, user in enumerate(users):\n",
    "    user_Y_ratings = ratings_of_one_user(user) \n",
    "    col_name = \"simil_\" + str(index + 1)\n",
    "    userRatings2 = userRatings2.withColumn(col_name, udf_compute_simil('ratings', user_Y_ratings))\n",
    "    # We set the similarity of user Y with himself to 0\n",
    "    userRatings2 = userRatings2.withColumn(col_name, when(col(\"reviewerID\") == user, 0.0).otherwise(col(col_name)))\n",
    "    \n",
    "    col_name = \"common_\" + str(index + 1)\n",
    "    userRatings2 = userRatings2.withColumn(col_name, udf_count_simil('ratings', user_Y_ratings))\n",
    "userRatings2.show()"
   ]
  },
  {
   "cell_type": "markdown",
   "metadata": {
    "colab_type": "text",
    "id": "KBDfR5kP0Nc4"
   },
   "source": [
    "We calculate for each user, with which user among the 10 he has the best similarity coefficient:"
   ]
  },
  {
   "cell_type": "code",
   "execution_count": 28,
   "metadata": {
    "colab": {
     "base_uri": "https://localhost:8080/",
     "height": 489
    },
    "colab_type": "code",
    "id": "J50v3gM70OE0",
    "outputId": "02f8718e-66b2-4aca-91bd-8d6339304882"
   },
   "outputs": [
    {
     "name": "stdout",
     "output_type": "stream",
     "text": [
      "+--------------+------------------+-------+------------------+-------------------+-------+-------+------------------+------------------+-------------------+-------------------+------------+\n",
      "|    reviewerID|             simil|simil_1|           simil_2|            simil_3|simil_4|simil_5|           simil_6|           simil_7|            simil_8|            simil_9|nearest_user|\n",
      "+--------------+------------------+-------+------------------+-------------------+-------+-------+------------------+------------------+-------------------+-------------------+------------+\n",
      "|A1WBGIL46NUFFU|2.4904821780308013|    0.0|               0.0| -1.138957039391365|    0.0|    0.0|               0.0|               0.0|                0.0|                0.0|           0|\n",
      "|A3BZXCM7XQ7XHN|2.3978952727983707|    0.0|               0.0|                0.0|    0.0|    0.0|               0.0|               0.0|                0.0|                0.0|           0|\n",
      "|A163XZU3HM4EHV| 2.302585092994046|    0.0|               0.0|                0.0|    0.0|    0.0|               0.0|               0.0|                0.0|                0.0|           0|\n",
      "|A3OJ7P6FIV88E4|2.2553152042016666|    0.0|1.0986122886681098| 2.0666494875152077|    0.0|    0.0|               0.0|               0.0|                0.0|                0.0|           0|\n",
      "|A34F4IHXZYZ7KS|2.2013280290078576|    0.0|               0.0|-0.2878231366242557|    0.0|    0.0|               0.0|               0.0|                0.0|                0.0|           0|\n",
      "| A9FCO8RDJVABW| 2.158518984518651|    0.0|               0.0|-1.2039146892625188|    0.0|    0.0|0.3000809870099112|               0.0|0.19538707650830725|-0.6719098009605208|           0|\n",
      "|A1XA4BJ23AVBT7|2.0794415416798357|    0.0|               0.0|                0.0|    0.0|    0.0|               0.0|1.2307016386105076|                0.0|                0.0|           0|\n",
      "| ADR7NQOEU8OFL|2.0794415416798357|    0.0|               0.0|                0.0|    0.0|    0.0|               0.0|               0.0|                0.0|                0.0|           0|\n",
      "|A3JEN29PPBLJ9P|2.0794415416798353|    0.0|               0.0|                0.0|    0.0|    0.0|               0.0|               0.0|                0.0|                0.0|           0|\n",
      "|A103KWX1QFCG6I| 2.059031220704651|    0.0|               0.0|                0.0|    0.0|    0.0|               0.0|0.4479398673070139|                0.0|                0.0|           0|\n",
      "+--------------+------------------+-------+------------------+-------------------+-------+-------+------------------+------------------+-------------------+-------------------+------------+\n",
      "only showing top 10 rows\n",
      "\n"
     ]
    }
   ],
   "source": [
    "def compute_nearest(x, x1, x2, x3, x4, x5, x6, x7, x8, x9):\n",
    "    x_list = [x, x1, x2, x3, x4, x5, x6, x7, x8, x9]\n",
    "    x_max = np.max(x_list)\n",
    "    if (x_max == 0):\n",
    "        return -2\n",
    "    elif (x_list.count(x_max) > 1):\n",
    "        return -1\n",
    "    else:\n",
    "        return x_list.index(x_max)\n",
    "\n",
    "udf_compute_nearest = udf(compute_nearest, IntegerType())\n",
    "\n",
    "userRatings2 = userRatings2.withColumn('nearest_user', udf_compute_nearest('simil', 'simil_1', 'simil_2', 'simil_3', 'simil_4', 'simil_5', 'simil_6', 'simil_7', 'simil_8', 'simil_9'))\n",
    "userRatings3 = userRatings2.drop('number_ratings', 'ratings', 'common_ratings', 'common_1', 'common_2', 'common_3', 'common_4', 'common_5', 'common_6', 'common_7', 'common_8', 'common_9')\n",
    "userRatings3.show(10)"
   ]
  },
  {
   "cell_type": "markdown",
   "metadata": {
    "colab_type": "text",
    "id": "V4R8ri8l0S9U"
   },
   "source": [
    "We list for each of the 10 users, the percentage of users who have the most similarities with them.<br />\n",
    "Users with similarities with 0 of the 10 users were given the value -2, and the users with an equal similarities between multiple users were given the value -1."
   ]
  },
  {
   "cell_type": "code",
   "execution_count": 29,
   "metadata": {
    "colab": {
     "base_uri": "https://localhost:8080/",
     "height": 295
    },
    "colab_type": "code",
    "id": "CayqHc5y0UDp",
    "outputId": "34c31b77-45f3-4d9c-a87a-b64c6d021e02"
   },
   "outputs": [
    {
     "name": "stdout",
     "output_type": "stream",
     "text": [
      "+------------+-----+-----------+\n",
      "|nearest_user|count|perct_count|\n",
      "+------------+-----+-----------+\n",
      "|          -2| 7655|      0.753|\n",
      "|           2|  445|      0.044|\n",
      "|           3|  322|      0.032|\n",
      "|           6|  286|      0.028|\n",
      "|           7|  267|      0.026|\n",
      "|           4|  256|      0.025|\n",
      "|           9|  247|      0.024|\n",
      "|           8|  231|      0.023|\n",
      "|           1|  173|      0.017|\n",
      "|           0|  163|      0.016|\n",
      "|           5|   63|      0.006|\n",
      "|          -1|   55|      0.005|\n",
      "+------------+-----+-----------+\n",
      "\n"
     ]
    }
   ],
   "source": [
    "userRatings_comp = userRatings3.groupby(\"nearest_user\").count()\n",
    "userRatings_comp = userRatings_comp.withColumn(\"perct_count\", round(col('count') / nb_reviewers, 3)) \\\n",
    "                                   .orderBy(\"perct_count\", ascending=False)\n",
    "userRatings_comp.show()"
   ]
  },
  {
   "cell_type": "markdown",
   "metadata": {},
   "source": [
    "We will count the number of ratings each 10 users have with each users:"
   ]
  },
  {
   "cell_type": "code",
   "execution_count": 31,
   "metadata": {},
   "outputs": [
    {
     "name": "stdout",
     "output_type": "stream",
     "text": [
      "+-------------------+-------------+-------------+-------------+-------------+-------------+-------------+-------------+-------------+-------------+\n",
      "|sum(common_ratings)|sum(common_1)|sum(common_2)|sum(common_3)|sum(common_4)|sum(common_5)|sum(common_6)|sum(common_7)|sum(common_8)|sum(common_9)|\n",
      "+-------------------+-------------+-------------+-------------+-------------+-------------+-------------+-------------+-------------+-------------+\n",
      "|              21007|        14322|        10989|        12755|         7947|         9245|         9311|         8579|         7838|         9271|\n",
      "+-------------------+-------------+-------------+-------------+-------------+-------------+-------------+-------------+-------------+-------------+\n",
      "\n"
     ]
    }
   ],
   "source": [
    "userRatings4 = userRatings2.select('reviewerID', 'common_ratings', 'common_1', 'common_2', 'common_3', 'common_4', 'common_5', 'common_6', 'common_7', 'common_8', 'common_9')\n",
    "userRatings4.groupBy().sum().show()"
   ]
  },
  {
   "cell_type": "markdown",
   "metadata": {},
   "source": [
    "We see that the most \"influential\" users (users 2, 3 and 6) are not necessarily the ones with the higher number of common ratings with the other users (which are the users 0, 1, 3)."
   ]
  },
  {
   "cell_type": "markdown",
   "metadata": {
    "colab_type": "text",
    "id": "iUiZuklK12qo"
   },
   "source": [
    "# III- Implementation of an ALS model"
   ]
  },
  {
   "cell_type": "markdown",
   "metadata": {
    "colab_type": "text",
    "id": "FXIka_3JVTUm"
   },
   "source": [
    "## 1- ALS model\n"
   ]
  },
  {
   "cell_type": "code",
   "execution_count": null,
   "metadata": {
    "colab": {},
    "colab_type": "code",
    "id": "nD2X3zAXVX4u"
   },
   "outputs": [],
   "source": [
    "# dataset preparation and re-encoding of ids\n",
    "asin_indexer = StringIndexer(inputCol=\"asin\", outputCol=\"asinIndex\")\n",
    "reviewerId_indexer = StringIndexer(inputCol=\"reviewerID\", outputCol=\"reviewerIdIndex\")\n",
    "pipeline = Pipeline(stages=[asin_indexer, reviewerId_indexer])\n",
    "pip = pipeline.fit(json)\n",
    "json_index = pip.transform(json)"
   ]
  },
  {
   "cell_type": "code",
   "execution_count": null,
   "metadata": {
    "colab": {},
    "colab_type": "code",
    "id": "chBG2CU_Vdka"
   },
   "outputs": [],
   "source": [
    "(training, test) = json_index.randomSplit([0.8, 0.2])"
   ]
  },
  {
   "cell_type": "code",
   "execution_count": null,
   "metadata": {
    "colab": {},
    "colab_type": "code",
    "id": "V0KxD0T7Vh5e"
   },
   "outputs": [],
   "source": [
    "# 1st model with default parameters\n",
    "als = ALS(maxIter=5, regParam=0.01, userCol=\"reviewerIdIndex\", itemCol=\"asinIndex\", ratingCol=\"overall\",\n",
    "          coldStartStrategy=\"drop\")\n",
    "model = als.fit(training)\n",
    "predictions = model.transform(test)"
   ]
  },
  {
   "cell_type": "code",
   "execution_count": null,
   "metadata": {
    "colab": {
     "base_uri": "https://localhost:8080/",
     "height": 35
    },
    "colab_type": "code",
    "id": "i07zRT2iVqf7",
    "outputId": "31502ab5-57f2-4c37-b8cb-da1efb3f7a5e"
   },
   "outputs": [],
   "source": [
    "# evaluation of the default model\n",
    "evaluator = RegressionEvaluator(metricName=\"rmse\", labelCol=\"overall\",\n",
    "                                predictionCol=\"prediction\")\n",
    "rmse = evaluator.evaluate(predictions)\n",
    "print(\"Root-mean-square error = \" + str(rmse))"
   ]
  },
  {
   "cell_type": "code",
   "execution_count": null,
   "metadata": {
    "colab": {
     "base_uri": "https://localhost:8080/",
     "height": 311
    },
    "colab_type": "code",
    "id": "EO8SgoRBVz_S",
    "outputId": "c33ca3e1-c40a-417c-8716-53b51b583e7d"
   },
   "outputs": [],
   "source": [
    "# we recommend for all users 10 pounds\n",
    "userRecs = model.recommendForAllUsers(10)\n",
    "userRecs.show(10)"
   ]
  },
  {
   "cell_type": "markdown",
   "metadata": {
    "colab_type": "text",
    "id": "ESMI_eTTV52l"
   },
   "source": [
    "## 2- Improvement of the ALS model"
   ]
  },
  {
   "cell_type": "code",
   "execution_count": null,
   "metadata": {
    "colab": {},
    "colab_type": "code",
    "id": "APH-n_sDV4pb"
   },
   "outputs": [],
   "source": [
    "als = ALS(maxIter=5, regParam=0.01, userCol=\"reviewerIdIndex\", itemCol=\"asinIndex\", ratingCol=\"overall\",\n",
    "          coldStartStrategy=\"drop\")\n",
    "\n",
    "# .addGrid(als.nonnegative , [True, False])\\\n",
    "paramGrid = ParamGridBuilder()\\\n",
    "    .addGrid(als.maxIter , [5, 10, 20])\\\n",
    "    .addGrid(als.regParam , [0.01, 0.1, 1.0, 2.0])\\\n",
    "    .addGrid(als.rank , [5, 10, 20])\\\n",
    "    .build()\n",
    " \n",
    "# In this case the estimator is simply the linear regression.\n",
    "# A TrainValidationSplit requires an Estimator, a set of Estimator ParamMaps, and an Evaluator.\n",
    "tvs = TrainValidationSplit(estimator=als,\n",
    "                           estimatorParamMaps=paramGrid,\n",
    "                           evaluator=evaluator,\n",
    "                           # 80% of the data will be used for training, 20% for validation.\n",
    "                           trainRatio=0.8)\n",
    "\n",
    "# run TrainValidationSplit, and choose the best set of parameters.\n",
    "model = tvs.fit(training)\n",
    "predictions = model.transform(test)"
   ]
  },
  {
   "cell_type": "code",
   "execution_count": null,
   "metadata": {
    "colab": {
     "base_uri": "https://localhost:8080/",
     "height": 72
    },
    "colab_type": "code",
    "id": "ozhBb8RfWFlO",
    "outputId": "4c4c60ae-5f14-4482-ffe9-f6e2c811ebed"
   },
   "outputs": [],
   "source": [
    "# display of best model parameters\n",
    "print(model.bestModel.rank)\n",
    "print(model.bestModel\n",
    "    ._java_obj     # Get Java object\n",
    "    .parent()      # Get parent (ALS estimator)\n",
    "    .getRegParam())\n",
    "print(model.bestModel\n",
    "    ._java_obj     # Get Java object\n",
    "    .parent()      # Get parent (ALS estimator)\n",
    "    .getMaxIter())"
   ]
  },
  {
   "cell_type": "code",
   "execution_count": null,
   "metadata": {
    "colab": {
     "base_uri": "https://localhost:8080/",
     "height": 35
    },
    "colab_type": "code",
    "id": "ZR3iulbMWIAw",
    "outputId": "e5f63d70-991f-46b2-8a17-9863d071541a"
   },
   "outputs": [],
   "source": [
    "# model evaluation\n",
    "rmse = evaluator.evaluate(predictions)\n",
    "print(rmse)"
   ]
  },
  {
   "cell_type": "code",
   "execution_count": null,
   "metadata": {
    "colab": {},
    "colab_type": "code",
    "id": "j5WYOBbqLX5F"
   },
   "outputs": [],
   "source": []
  },
  {
   "cell_type": "code",
   "execution_count": null,
   "metadata": {
    "colab": {},
    "colab_type": "code",
    "id": "QDnAyOnlLLRn"
   },
   "outputs": [],
   "source": [
    "from pyspark.ml.fpm import FPGrowth"
   ]
  },
  {
   "cell_type": "code",
   "execution_count": null,
   "metadata": {
    "colab": {},
    "colab_type": "code",
    "id": "oDu0EXwWg7cl"
   },
   "outputs": [],
   "source": [
    "df_fp = json.select('asin', 'reviewerID').groupby('reviewerID').agg(F.collect_list(\"asin\"))"
   ]
  },
  {
   "cell_type": "code",
   "execution_count": null,
   "metadata": {
    "colab": {},
    "colab_type": "code",
    "id": "uOF7nIryLW2C"
   },
   "outputs": [],
   "source": [
    "fpGrowth = FPGrowth(itemsCol=\"collect_list(asin)\", minSupport=0.01, minConfidence=0.1)\n",
    "model_fp = fpGrowth.fit(df_fp)"
   ]
  },
  {
   "cell_type": "code",
   "execution_count": null,
   "metadata": {
    "colab": {
     "base_uri": "https://localhost:8080/",
     "height": 109
    },
    "colab_type": "code",
    "id": "FTiFx3KWEB7i",
    "outputId": "90c64bda-0158-4757-836b-2988411dd147"
   },
   "outputs": [],
   "source": [
    "# display frequent itemsets.\n",
    "model_fp.freqItemsets.show()"
   ]
  },
  {
   "cell_type": "code",
   "execution_count": null,
   "metadata": {
    "colab": {
     "base_uri": "https://localhost:8080/",
     "height": 109
    },
    "colab_type": "code",
    "id": "f2bXO78xgBev",
    "outputId": "1e0fec46-976b-4a44-f2a3-4ef3187988b4"
   },
   "outputs": [],
   "source": [
    "model_fp.associationRules.show()"
   ]
  },
  {
   "cell_type": "code",
   "execution_count": null,
   "metadata": {
    "colab": {
     "base_uri": "https://localhost:8080/",
     "height": 495
    },
    "colab_type": "code",
    "id": "RNdHj7gJEGV1",
    "outputId": "ff4bd068-9b0f-4eb6-88ad-d29502af863f"
   },
   "outputs": [],
   "source": [
    "df_fp.show()"
   ]
  }
 ],
 "metadata": {
  "colab": {
   "collapsed_sections": [],
   "name": "Copie de Amazon.ipynb",
   "provenance": []
  },
  "kernelspec": {
   "display_name": "Python 3",
   "language": "python",
   "name": "python3"
  },
  "language_info": {
   "codemirror_mode": {
    "name": "ipython",
    "version": 3
   },
   "file_extension": ".py",
   "mimetype": "text/x-python",
   "name": "python",
   "nbconvert_exporter": "python",
   "pygments_lexer": "ipython3",
   "version": "3.6.9"
  }
 },
 "nbformat": 4,
 "nbformat_minor": 1
}
